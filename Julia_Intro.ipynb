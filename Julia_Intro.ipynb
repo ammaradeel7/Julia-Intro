{
  "nbformat": 4,
  "nbformat_minor": 0,
  "metadata": {
    "colab": {
      "name": "Julia-Intro.ipynb",
      "provenance": []
    },
    "kernelspec": {
      "name": "julia-1.2",
      "display_name": "Julia 1.2"
    },
    "accelerator": "GPU"
  },
  "cells": [
    {
      "cell_type": "code",
      "metadata": {
        "id": "oMSuTc3pDlHv",
        "colab_type": "code",
        "outputId": "25c4ed8f-2280-4b00-edac-5d6066f7148b",
        "colab": {
          "base_uri": "https://localhost:8080/",
          "height": 1000
        }
      },
      "source": [
        "!curl -sSL \"https://julialang-s3.julialang.org/bin/linux/x64/1.2/julia-1.2.0-linux-x86_64.tar.gz\" -o julia.tar.gz\n",
        "!tar -xzf julia.tar.gz -C /usr --strip-components 1\n",
        "!rm -rf julia.tar.gz*\n",
        "!julia -e 'using Pkg; pkg\"add IJulia; add CuArrays; add Flux; precompile\"'"
      ],
      "execution_count": 0,
      "outputs": [
        {
          "output_type": "stream",
          "text": [
            "   Cloning default registries into `~/.julia`\n",
            "   Cloning registry from \"https://github.com/JuliaRegistries/General.git\"\n",
            "\u001b[2K\u001b[?25h     Added registry `General` to `~/.julia/registries/General`\n",
            " Resolving package versions...\n",
            " Installed Parsers ───────── v1.0.2\n",
            " Installed Conda ─────────── v1.4.1\n",
            " Installed JSON ──────────── v0.21.0\n",
            " Installed MbedTLS ───────── v0.7.0\n",
            " Installed BinaryProvider ── v0.5.8\n",
            " Installed ZMQ ───────────── v1.1.0\n",
            " Installed IJulia ────────── v1.21.2\n",
            " Installed VersionParsing ── v1.2.0\n",
            " Installed SoftGlobalScope ─ v1.0.10\n",
            "  Updating `~/.julia/environments/v1.2/Project.toml`\n",
            "  [7073ff75] + IJulia v1.21.2\n",
            "  Updating `~/.julia/environments/v1.2/Manifest.toml`\n",
            "  [b99e7846] + BinaryProvider v0.5.8\n",
            "  [8f4d0f93] + Conda v1.4.1\n",
            "  [7073ff75] + IJulia v1.21.2\n",
            "  [682c06a0] + JSON v0.21.0\n",
            "  [739be429] + MbedTLS v0.7.0\n",
            "  [69de0a69] + Parsers v1.0.2\n",
            "  [b85f4697] + SoftGlobalScope v1.0.10\n",
            "  [81def892] + VersionParsing v1.2.0\n",
            "  [c2297ded] + ZMQ v1.1.0\n",
            "  [2a0f44e3] + Base64 \n",
            "  [ade2ca70] + Dates \n",
            "  [8ba89e20] + Distributed \n",
            "  [7b1f6079] + FileWatching \n",
            "  [b77e0a4c] + InteractiveUtils \n",
            "  [76f85450] + LibGit2 \n",
            "  [8f399da3] + Libdl \n",
            "  [56ddb016] + Logging \n",
            "  [d6f4376e] + Markdown \n",
            "  [a63ad114] + Mmap \n",
            "  [44cfe95a] + Pkg \n",
            "  [de0858da] + Printf \n",
            "  [3fa0cd96] + REPL \n",
            "  [9a3f8284] + Random \n",
            "  [ea8e919c] + SHA \n",
            "  [9e88b42a] + Serialization \n",
            "  [6462fe0b] + Sockets \n",
            "  [8dfed614] + Test \n",
            "  [cf7118a7] + UUIDs \n",
            "  [4ec0a83e] + Unicode \n",
            "  Building Conda ──→ `~/.julia/packages/Conda/3rPhK/deps/build.log`\n",
            "  Building ZMQ ────→ `~/.julia/packages/ZMQ/ItfqT/deps/build.log`\n",
            "  Building MbedTLS → `~/.julia/packages/MbedTLS/a1JFn/deps/build.log`\n",
            "  Building IJulia ─→ `~/.julia/packages/IJulia/DrVMH/deps/build.log`\n",
            " Resolving package versions...\n",
            " Installed TimerOutputs ─────── v0.5.4\n",
            " Installed AbstractFFTs ─────── v0.5.0\n",
            " Installed OrderedCollections ─ v1.1.0\n",
            " Installed Requires ─────────── v1.0.1\n",
            " Installed Adapt ────────────── v1.0.1\n",
            " Installed CUDAnative ───────── v2.7.0\n",
            " Installed CUDAdrv ──────────── v5.1.0\n",
            " Installed GPUArrays ────────── v2.0.1\n",
            " Installed NNlib ────────────── v0.6.6\n",
            " Installed CUDAapi ──────────── v2.1.0\n",
            " Installed CuArrays ─────────── v1.6.0\n",
            " Installed CEnum ────────────── v0.2.0\n",
            " Installed DataStructures ───── v0.17.13\n",
            " Installed MacroTools ───────── v0.5.5\n",
            " Installed LLVM ─────────────── v1.3.4\n",
            "  Updating `~/.julia/environments/v1.2/Project.toml`\n",
            "  [3a865a2d] + CuArrays v1.6.0\n",
            "  Updating `~/.julia/environments/v1.2/Manifest.toml`\n",
            "  [621f4979] + AbstractFFTs v0.5.0\n",
            "  [79e6a3ab] + Adapt v1.0.1\n",
            "  [fa961155] + CEnum v0.2.0\n",
            "  [3895d2a7] + CUDAapi v2.1.0\n",
            "  [c5f51814] + CUDAdrv v5.1.0\n",
            "  [be33ccc6] + CUDAnative v2.7.0\n",
            "  [3a865a2d] + CuArrays v1.6.0\n",
            "  [864edb3b] + DataStructures v0.17.13\n",
            "  [0c68f7d7] + GPUArrays v2.0.1\n",
            "  [929cbde3] + LLVM v1.3.4\n",
            "  [1914dd2f] + MacroTools v0.5.5\n",
            "  [872c559c] + NNlib v0.6.6\n",
            "  [bac558e1] + OrderedCollections v1.1.0\n",
            "  [ae029012] + Requires v1.0.1\n",
            "  [a759f4b9] + TimerOutputs v0.5.4\n",
            "  [37e2e46d] + LinearAlgebra \n",
            "  [2f01184e] + SparseArrays \n",
            "  [10745b16] + Statistics \n",
            "  Building NNlib → `~/.julia/packages/NNlib/FAI3o/deps/build.log`\n",
            " Resolving package versions...\n",
            " Installed URIParser ──────────── v0.4.1\n",
            " Installed Missings ───────────── v0.4.3\n",
            " Installed DataAPI ────────────── v1.1.0\n",
            " Installed ArrayLayouts ───────── v0.2.4\n",
            " Installed Flux ───────────────── v0.10.3\n",
            " Installed CommonSubexpressions ─ v0.2.0\n",
            " Installed StatsBase ──────────── v0.33.0\n",
            " Installed IRTools ────────────── v0.3.1\n",
            " Installed Reexport ───────────── v0.2.0\n",
            " Installed Colors ─────────────── v0.11.2\n",
            " Installed Zygote ─────────────── v0.4.15\n",
            " Installed FixedPointNumbers ──── v0.7.1\n",
            " Installed ForwardDiff ────────── v0.10.10\n",
            " Installed DiffRules ──────────── v1.0.1\n",
            " Installed FillArrays ─────────── v0.8.7\n",
            " Installed Media ──────────────── v0.5.0\n",
            " Installed CodecZlib ──────────── v0.6.0\n",
            " Installed AbstractTrees ──────── v0.3.3\n",
            " Installed Juno ───────────────── v0.8.1\n",
            " Installed NaNMath ────────────── v0.3.3\n",
            " Installed DiffResults ────────── v1.0.2\n",
            " Installed TranscodingStreams ─── v0.9.5\n",
            " Installed StaticArrays ───────── v0.12.1\n",
            " Installed SortingAlgorithms ──── v0.3.1\n",
            " Installed ZipFile ────────────── v0.8.4\n",
            " Installed ZygoteRules ────────── v0.2.0\n",
            " Installed BinDeps ────────────── v1.0.1\n",
            " Installed SpecialFunctions ───── v0.8.0\n",
            " Installed ColorTypes ─────────── v0.9.1\n",
            "  Updating `~/.julia/environments/v1.2/Project.toml`\n",
            "  [587475ba] + Flux v0.10.3\n",
            "  Updating `~/.julia/environments/v1.2/Manifest.toml`\n",
            "  [1520ce14] + AbstractTrees v0.3.3\n",
            "  [4c555306] + ArrayLayouts v0.2.4\n",
            "  [9e28174c] + BinDeps v1.0.1\n",
            "  [944b1d66] + CodecZlib v0.6.0\n",
            "  [3da002f7] + ColorTypes v0.9.1\n",
            "  [5ae59095] + Colors v0.11.2\n",
            "  [bbf7d656] + CommonSubexpressions v0.2.0\n",
            "  [9a962f9c] + DataAPI v1.1.0\n",
            "  [163ba53b] + DiffResults v1.0.2\n",
            "  [b552c78f] + DiffRules v1.0.1\n",
            "  [1a297f60] + FillArrays v0.8.7\n",
            "  [53c48c17] + FixedPointNumbers v0.7.1\n",
            "  [587475ba] + Flux v0.10.3\n",
            "  [f6369f11] + ForwardDiff v0.10.10\n",
            "  [7869d1d1] + IRTools v0.3.1\n",
            "  [e5e0dc1b] + Juno v0.8.1\n",
            "  [e89f7d12] + Media v0.5.0\n",
            "  [e1d29d7a] + Missings v0.4.3\n",
            "  [77ba4419] + NaNMath v0.3.3\n",
            "  [189a3867] + Reexport v0.2.0\n",
            "  [a2af1166] + SortingAlgorithms v0.3.1\n",
            "  [276daf66] + SpecialFunctions v0.8.0\n",
            "  [90137ffa] + StaticArrays v0.12.1\n",
            "  [2913bbd2] + StatsBase v0.33.0\n",
            "  [3bb67fe8] + TranscodingStreams v0.9.5\n",
            "  [30578b45] + URIParser v0.4.1\n",
            "  [a5390f91] + ZipFile v0.8.4\n",
            "  [e88e6eb3] + Zygote v0.4.15\n",
            "  [700de1a5] + ZygoteRules v0.2.0\n",
            "  [8bb1440f] + DelimitedFiles \n",
            "  [9abbd945] + Profile \n",
            "  Building CodecZlib ───────→ `~/.julia/packages/CodecZlib/5t9zO/deps/build.log`\n",
            "  Building ZipFile ─────────→ `~/.julia/packages/ZipFile/DW0Qr/deps/build.log`\n",
            "  Building SpecialFunctions → `~/.julia/packages/SpecialFunctions/ne2iw/deps/build.log`\n",
            "Precompiling project...\n",
            "Precompiling CuArrays\n",
            "Precompiling IJulia\n",
            "Precompiling Flux\n"
          ],
          "name": "stdout"
        }
      ]
    },
    {
      "cell_type": "code",
      "metadata": {
        "id": "DjiFWEVeVsPH",
        "colab_type": "code",
        "outputId": "31a349dd-6826-4c55-b77f-83fb9f4e6868",
        "colab": {
          "base_uri": "https://localhost:8080/",
          "height": 34
        }
      },
      "source": [
        "using Printf\n",
        "test = \"Hello Julia!\"\n",
        "println(test)"
      ],
      "execution_count": 0,
      "outputs": [
        {
          "output_type": "stream",
          "text": [
            "Hello Julia!\n"
          ],
          "name": "stdout"
        }
      ]
    },
    {
      "cell_type": "code",
      "metadata": {
        "id": "OuTzvGkDWxxA",
        "colab_type": "code",
        "outputId": "243837c7-3ed1-4d75-a237-ea1439af5301",
        "colab": {
          "base_uri": "https://localhost:8080/",
          "height": 34
        }
      },
      "source": [
        "text = \"what length is this string ?\"\n",
        "println(length(text))"
      ],
      "execution_count": 0,
      "outputs": [
        {
          "output_type": "stream",
          "text": [
            "28\n"
          ],
          "name": "stdout"
        }
      ]
    },
    {
      "cell_type": "code",
      "metadata": {
        "id": "wWieAWltXHco",
        "colab_type": "code",
        "outputId": "751194e4-ae62-43ca-fa67-17a816ba8ebc",
        "colab": {
          "base_uri": "https://localhost:8080/",
          "height": 34
        }
      },
      "source": [
        "println(occursin(\"what\",text))"
      ],
      "execution_count": 0,
      "outputs": [
        {
          "output_type": "stream",
          "text": [
            "true\n"
          ],
          "name": "stdout"
        }
      ]
    },
    {
      "cell_type": "code",
      "metadata": {
        "id": "mTm9AdBXX3B9",
        "colab_type": "code",
        "outputId": "d4d20673-6351-41cd-9fd3-71609db4a806",
        "colab": {
          "base_uri": "https://localhost:8080/",
          "height": 34
        }
      },
      "source": [
        "age = 19\n",
        "if age >= 13 && age <= 19\n",
        "    println(\"you're a teenager\")\n",
        "else\n",
        "    println(\"you're not a teenager\")\n",
        "end\n",
        "\n"
      ],
      "execution_count": 0,
      "outputs": [
        {
          "output_type": "stream",
          "text": [
            "you're a teenager\n"
          ],
          "name": "stdout"
        }
      ]
    },
    {
      "cell_type": "code",
      "metadata": {
        "id": "Lq8GzQnRZMHc",
        "colab_type": "code",
        "outputId": "1b77ef65-ec91-4618-b9d7-05bf3ebd8949",
        "colab": {
          "base_uri": "https://localhost:8080/",
          "height": 374
        }
      },
      "source": [
        "i = 20\n",
        "while i >= 0\n",
        "    println(i)\n",
        "    i-=1\n",
        "end\n"
      ],
      "execution_count": 0,
      "outputs": [
        {
          "output_type": "stream",
          "text": [
            "20\n",
            "19\n",
            "18\n",
            "17\n",
            "16\n",
            "15\n",
            "14\n",
            "13\n",
            "12\n",
            "11\n",
            "10\n",
            "9\n",
            "8\n",
            "7\n",
            "6\n",
            "5\n",
            "4\n",
            "3\n",
            "2\n",
            "1\n",
            "0\n"
          ],
          "name": "stdout"
        }
      ]
    },
    {
      "cell_type": "code",
      "metadata": {
        "id": "af0kfwDXZxf6",
        "colab_type": "code",
        "outputId": "ab6ed6eb-1e83-4831-fc45-5c6631efaf82",
        "colab": {
          "base_uri": "https://localhost:8080/",
          "height": 204
        }
      },
      "source": [
        "i = 20\n",
        "while i >= 0\n",
        "    if i % 2 == 0 \n",
        "        println(i)\n",
        "    end\n",
        "    i-=1\n",
        "end"
      ],
      "execution_count": 0,
      "outputs": [
        {
          "output_type": "stream",
          "text": [
            "20\n",
            "18\n",
            "16\n",
            "14\n",
            "12\n",
            "10\n",
            "8\n",
            "6\n",
            "4\n",
            "2\n",
            "0\n"
          ],
          "name": "stdout"
        }
      ]
    },
    {
      "cell_type": "code",
      "metadata": {
        "id": "mL6FYuN0aqit",
        "colab_type": "code",
        "outputId": "923a57f2-51df-42d8-8001-70a5f5affff4",
        "colab": {
          "base_uri": "https://localhost:8080/",
          "height": 34
        }
      },
      "source": [
        "function returnNextTwo(x)\n",
        "    return(x+1 , x+2)\n",
        "end\n",
        "\n",
        "println(returnNextTwo(3))"
      ],
      "execution_count": 0,
      "outputs": [
        {
          "output_type": "stream",
          "text": [
            "(4, 5)\n"
          ],
          "name": "stdout"
        }
      ]
    },
    {
      "cell_type": "code",
      "metadata": {
        "id": "7XYBWtu-h0fX",
        "colab_type": "code",
        "outputId": "15600c8f-028a-4ed2-ee1b-108c1b5b5163",
        "colab": {
          "base_uri": "https://localhost:8080/",
          "height": 982
        }
      },
      "source": [
        "import Pkg; Pkg.add(\"Plots\")\n",
        "using Plots\n",
        "x = 1:10; y = rand(10);\n",
        "plot(x, y)"
      ],
      "execution_count": 0,
      "outputs": [
        {
          "output_type": "stream",
          "text": [
            "\u001b[32m\u001b[1m  Updating\u001b[22m\u001b[39m registry at `~/.julia/registries/General`\n",
            "\u001b[32m\u001b[1m  Updating\u001b[22m\u001b[39m git-repo `https://github.com/JuliaRegistries/General.git`\n",
            "\u001b[?25l\u001b[2K\u001b[?25h\u001b[32m\u001b[1m Resolving\u001b[22m\u001b[39m package versions...\n",
            "\u001b[32m\u001b[1m Installed\u001b[22m\u001b[39m Showoff ───────── v0.3.1\n",
            "\u001b[32m\u001b[1m Installed\u001b[22m\u001b[39m RecipesBase ───── v1.0.0\n",
            "\u001b[32m\u001b[1m Installed\u001b[22m\u001b[39m Measures ──────── v0.3.1\n",
            "\u001b[32m\u001b[1m Installed\u001b[22m\u001b[39m RecipesPipeline ─ v0.1.4\n",
            "\u001b[32m\u001b[1m Installed\u001b[22m\u001b[39m FFMPEG ────────── v0.2.4\n",
            "\u001b[32m\u001b[1m Installed\u001b[22m\u001b[39m Plots ─────────── v1.0.12\n",
            "\u001b[32m\u001b[1m Installed\u001b[22m\u001b[39m Contour ───────── v0.5.2\n",
            "\u001b[32m\u001b[1m Installed\u001b[22m\u001b[39m GeometryTypes ─── v0.8.2\n",
            "\u001b[32m\u001b[1m Installed\u001b[22m\u001b[39m PlotThemes ────── v1.0.3\n",
            "\u001b[32m\u001b[1m Installed\u001b[22m\u001b[39m PlotUtils ─────── v0.6.5\n",
            "\u001b[32m\u001b[1m Installed\u001b[22m\u001b[39m GR ────────────── v0.48.0\n",
            "\u001b[32m\u001b[1m  Updating\u001b[22m\u001b[39m `~/.julia/environments/v1.2/Project.toml`\n",
            " \u001b[90m [91a5bcdd]\u001b[39m\u001b[92m + Plots v1.0.12\u001b[39m\n",
            "\u001b[32m\u001b[1m  Updating\u001b[22m\u001b[39m `~/.julia/environments/v1.2/Manifest.toml`\n",
            " \u001b[90m [d38c429a]\u001b[39m\u001b[92m + Contour v0.5.2\u001b[39m\n",
            " \u001b[90m [c87230d0]\u001b[39m\u001b[92m + FFMPEG v0.2.4\u001b[39m\n",
            " \u001b[90m [28b8d3ca]\u001b[39m\u001b[92m + GR v0.48.0\u001b[39m\n",
            " \u001b[90m [4d00f742]\u001b[39m\u001b[92m + GeometryTypes v0.8.2\u001b[39m\n",
            " \u001b[90m [442fdcdd]\u001b[39m\u001b[92m + Measures v0.3.1\u001b[39m\n",
            " \u001b[90m [ccf2f8ad]\u001b[39m\u001b[92m + PlotThemes v1.0.3\u001b[39m\n",
            " \u001b[90m [995b91a9]\u001b[39m\u001b[92m + PlotUtils v0.6.5\u001b[39m\n",
            " \u001b[90m [91a5bcdd]\u001b[39m\u001b[92m + Plots v1.0.12\u001b[39m\n",
            " \u001b[90m [3cdcf5f2]\u001b[39m\u001b[92m + RecipesBase v1.0.0\u001b[39m\n",
            " \u001b[90m [01d81517]\u001b[39m\u001b[92m + RecipesPipeline v0.1.4\u001b[39m\n",
            " \u001b[90m [992d4aef]\u001b[39m\u001b[92m + Showoff v0.3.1\u001b[39m\n",
            "\u001b[32m\u001b[1m  Building\u001b[22m\u001b[39m GR ────→ `~/.julia/packages/GR/yMV3y/deps/build.log`\n",
            "\u001b[32m\u001b[1m  Building\u001b[22m\u001b[39m FFMPEG → `~/.julia/packages/FFMPEG/guN1x/deps/build.log`\n",
            "\u001b[32m\u001b[1m  Building\u001b[22m\u001b[39m Plots ─→ `~/.julia/packages/Plots/ZyF4v/deps/build.log`\n"
          ],
          "name": "stdout"
        },
        {
          "output_type": "stream",
          "text": [
            "┌ Info: Precompiling Plots [91a5bcdd-55d7-5caf-9e0b-520d859cae80]\n",
            "└ @ Base loading.jl:1242\n"
          ],
          "name": "stderr"
        },
        {
          "output_type": "execute_result",
          "data": {
            "image/svg+xml": "<?xml version=\"1.0\" encoding=\"utf-8\"?>\n<svg xmlns=\"http://www.w3.org/2000/svg\" xmlns:xlink=\"http://www.w3.org/1999/xlink\" width=\"600\" height=\"400\" viewBox=\"0 0 2400 1600\">\n<defs>\n  <clipPath id=\"clip1400\">\n    <rect x=\"0\" y=\"0\" width=\"2400\" height=\"1600\"/>\n  </clipPath>\n</defs>\n<path clip-path=\"url(#clip1400)\" d=\"\nM0 1600 L2400 1600 L2400 0 L0 0  Z\n  \" fill=\"#ffffff\" fill-rule=\"evenodd\" fill-opacity=\"1\"/>\n<defs>\n  <clipPath id=\"clip1401\">\n    <rect x=\"480\" y=\"0\" width=\"1681\" height=\"1600\"/>\n  </clipPath>\n</defs>\n<path clip-path=\"url(#clip1400)\" d=\"\nM148.334 1486.45 L2352.76 1486.45 L2352.76 47.2441 L148.334 47.2441  Z\n  \" fill=\"#ffffff\" fill-rule=\"evenodd\" fill-opacity=\"1\"/>\n<defs>\n  <clipPath id=\"clip1402\">\n    <rect x=\"148\" y=\"47\" width=\"2205\" height=\"1440\"/>\n  </clipPath>\n</defs>\n<polyline clip-path=\"url(#clip1402)\" style=\"stroke:#000000; stroke-width:2; stroke-opacity:0.1; fill:none\" points=\"\n  441.795,1486.45 441.795,47.2441 \n  \"/>\n<polyline clip-path=\"url(#clip1402)\" style=\"stroke:#000000; stroke-width:2; stroke-opacity:0.1; fill:none\" points=\"\n  903.938,1486.45 903.938,47.2441 \n  \"/>\n<polyline clip-path=\"url(#clip1402)\" style=\"stroke:#000000; stroke-width:2; stroke-opacity:0.1; fill:none\" points=\"\n  1366.08,1486.45 1366.08,47.2441 \n  \"/>\n<polyline clip-path=\"url(#clip1402)\" style=\"stroke:#000000; stroke-width:2; stroke-opacity:0.1; fill:none\" points=\"\n  1828.22,1486.45 1828.22,47.2441 \n  \"/>\n<polyline clip-path=\"url(#clip1402)\" style=\"stroke:#000000; stroke-width:2; stroke-opacity:0.1; fill:none\" points=\"\n  2290.37,1486.45 2290.37,47.2441 \n  \"/>\n<polyline clip-path=\"url(#clip1402)\" style=\"stroke:#000000; stroke-width:2; stroke-opacity:0.1; fill:none\" points=\"\n  148.334,1261.97 2352.76,1261.97 \n  \"/>\n<polyline clip-path=\"url(#clip1402)\" style=\"stroke:#000000; stroke-width:2; stroke-opacity:0.1; fill:none\" points=\"\n  148.334,961.293 2352.76,961.293 \n  \"/>\n<polyline clip-path=\"url(#clip1402)\" style=\"stroke:#000000; stroke-width:2; stroke-opacity:0.1; fill:none\" points=\"\n  148.334,660.613 2352.76,660.613 \n  \"/>\n<polyline clip-path=\"url(#clip1402)\" style=\"stroke:#000000; stroke-width:2; stroke-opacity:0.1; fill:none\" points=\"\n  148.334,359.934 2352.76,359.934 \n  \"/>\n<polyline clip-path=\"url(#clip1402)\" style=\"stroke:#000000; stroke-width:2; stroke-opacity:0.1; fill:none\" points=\"\n  148.334,59.2539 2352.76,59.2539 \n  \"/>\n<polyline clip-path=\"url(#clip1400)\" style=\"stroke:#000000; stroke-width:4; stroke-opacity:1; fill:none\" points=\"\n  148.334,1486.45 2352.76,1486.45 \n  \"/>\n<polyline clip-path=\"url(#clip1400)\" style=\"stroke:#000000; stroke-width:4; stroke-opacity:1; fill:none\" points=\"\n  148.334,1486.45 148.334,47.2441 \n  \"/>\n<polyline clip-path=\"url(#clip1400)\" style=\"stroke:#000000; stroke-width:4; stroke-opacity:1; fill:none\" points=\"\n  441.795,1486.45 441.795,1469.18 \n  \"/>\n<polyline clip-path=\"url(#clip1400)\" style=\"stroke:#000000; stroke-width:4; stroke-opacity:1; fill:none\" points=\"\n  903.938,1486.45 903.938,1469.18 \n  \"/>\n<polyline clip-path=\"url(#clip1400)\" style=\"stroke:#000000; stroke-width:4; stroke-opacity:1; fill:none\" points=\"\n  1366.08,1486.45 1366.08,1469.18 \n  \"/>\n<polyline clip-path=\"url(#clip1400)\" style=\"stroke:#000000; stroke-width:4; stroke-opacity:1; fill:none\" points=\"\n  1828.22,1486.45 1828.22,1469.18 \n  \"/>\n<polyline clip-path=\"url(#clip1400)\" style=\"stroke:#000000; stroke-width:4; stroke-opacity:1; fill:none\" points=\"\n  2290.37,1486.45 2290.37,1469.18 \n  \"/>\n<polyline clip-path=\"url(#clip1400)\" style=\"stroke:#000000; stroke-width:4; stroke-opacity:1; fill:none\" points=\"\n  148.334,1261.97 174.787,1261.97 \n  \"/>\n<polyline clip-path=\"url(#clip1400)\" style=\"stroke:#000000; stroke-width:4; stroke-opacity:1; fill:none\" points=\"\n  148.334,961.293 174.787,961.293 \n  \"/>\n<polyline clip-path=\"url(#clip1400)\" style=\"stroke:#000000; stroke-width:4; stroke-opacity:1; fill:none\" points=\"\n  148.334,660.613 174.787,660.613 \n  \"/>\n<polyline clip-path=\"url(#clip1400)\" style=\"stroke:#000000; stroke-width:4; stroke-opacity:1; fill:none\" points=\"\n  148.334,359.934 174.787,359.934 \n  \"/>\n<polyline clip-path=\"url(#clip1400)\" style=\"stroke:#000000; stroke-width:4; stroke-opacity:1; fill:none\" points=\"\n  148.334,59.2539 174.787,59.2539 \n  \"/>\n<path clip-path=\"url(#clip1400)\" d=\"M 0 0 M436.448 1535.98 L452.767 1535.98 L452.767 1539.92 L430.823 1539.92 L430.823 1535.98 Q433.485 1533.23 438.068 1528.6 Q442.675 1523.95 443.855 1522.61 Q446.101 1520.08 446.98 1518.35 Q447.883 1516.59 447.883 1514.9 Q447.883 1512.14 445.939 1510.41 Q444.017 1508.67 440.915 1508.67 Q438.716 1508.67 436.263 1509.43 Q433.832 1510.2 431.054 1511.75 L431.054 1507.03 Q433.878 1505.89 436.332 1505.31 Q438.786 1504.73 440.823 1504.73 Q446.193 1504.73 449.388 1507.42 Q452.582 1510.11 452.582 1514.6 Q452.582 1516.73 451.772 1518.65 Q450.985 1520.54 448.878 1523.14 Q448.3 1523.81 445.198 1527.03 Q442.096 1530.22 436.448 1535.98 Z\" fill=\"#000000\" fill-rule=\"evenodd\" fill-opacity=\"1\" /><path clip-path=\"url(#clip1400)\" d=\"M 0 0 M906.947 1509.43 L895.142 1527.88 L906.947 1527.88 L906.947 1509.43 M905.72 1505.36 L911.6 1505.36 L911.6 1527.88 L916.531 1527.88 L916.531 1531.77 L911.6 1531.77 L911.6 1539.92 L906.947 1539.92 L906.947 1531.77 L891.345 1531.77 L891.345 1527.26 L905.72 1505.36 Z\" fill=\"#000000\" fill-rule=\"evenodd\" fill-opacity=\"1\" /><path clip-path=\"url(#clip1400)\" d=\"M 0 0 M1366.49 1520.78 Q1363.34 1520.78 1361.49 1522.93 Q1359.66 1525.08 1359.66 1528.83 Q1359.66 1532.56 1361.49 1534.73 Q1363.34 1536.89 1366.49 1536.89 Q1369.63 1536.89 1371.46 1534.73 Q1373.31 1532.56 1373.31 1528.83 Q1373.31 1525.08 1371.46 1522.93 Q1369.63 1520.78 1366.49 1520.78 M1375.77 1506.12 L1375.77 1510.38 Q1374.01 1509.55 1372.2 1509.11 Q1370.42 1508.67 1368.66 1508.67 Q1364.03 1508.67 1361.58 1511.8 Q1359.15 1514.92 1358.8 1521.24 Q1360.17 1519.23 1362.23 1518.16 Q1364.29 1517.07 1366.76 1517.07 Q1371.97 1517.07 1374.98 1520.24 Q1378.01 1523.39 1378.01 1528.83 Q1378.01 1534.16 1374.87 1537.37 Q1371.72 1540.59 1366.49 1540.59 Q1360.49 1540.59 1357.32 1536.01 Q1354.15 1531.4 1354.15 1522.67 Q1354.15 1514.48 1358.04 1509.62 Q1361.93 1504.73 1368.48 1504.73 Q1370.24 1504.73 1372.02 1505.08 Q1373.82 1505.43 1375.77 1506.12 Z\" fill=\"#000000\" fill-rule=\"evenodd\" fill-opacity=\"1\" /><path clip-path=\"url(#clip1400)\" d=\"M 0 0 M1828.22 1523.51 Q1824.89 1523.51 1822.97 1525.29 Q1821.07 1527.07 1821.07 1530.2 Q1821.07 1533.32 1822.97 1535.11 Q1824.89 1536.89 1828.22 1536.89 Q1831.56 1536.89 1833.48 1535.11 Q1835.4 1533.3 1835.4 1530.2 Q1835.4 1527.07 1833.48 1525.29 Q1831.58 1523.51 1828.22 1523.51 M1823.55 1521.52 Q1820.54 1520.78 1818.85 1518.72 Q1817.18 1516.66 1817.18 1513.69 Q1817.18 1509.55 1820.12 1507.14 Q1823.08 1504.73 1828.22 1504.73 Q1833.39 1504.73 1836.33 1507.14 Q1839.27 1509.55 1839.27 1513.69 Q1839.27 1516.66 1837.58 1518.72 Q1835.91 1520.78 1832.92 1521.52 Q1836.3 1522.3 1838.18 1524.6 Q1840.08 1526.89 1840.08 1530.2 Q1840.08 1535.22 1837 1537.91 Q1833.94 1540.59 1828.22 1540.59 Q1822.51 1540.59 1819.43 1537.91 Q1816.37 1535.22 1816.37 1530.2 Q1816.37 1526.89 1818.27 1524.6 Q1820.17 1522.3 1823.55 1521.52 M1821.83 1514.13 Q1821.83 1516.82 1823.5 1518.32 Q1825.19 1519.83 1828.22 1519.83 Q1831.23 1519.83 1832.92 1518.32 Q1834.64 1516.82 1834.64 1514.13 Q1834.64 1511.45 1832.92 1509.94 Q1831.23 1508.44 1828.22 1508.44 Q1825.19 1508.44 1823.5 1509.94 Q1821.83 1511.45 1821.83 1514.13 Z\" fill=\"#000000\" fill-rule=\"evenodd\" fill-opacity=\"1\" /><path clip-path=\"url(#clip1400)\" d=\"M 0 0 M2267.24 1535.98 L2274.88 1535.98 L2274.88 1509.62 L2266.57 1511.29 L2266.57 1507.03 L2274.83 1505.36 L2279.51 1505.36 L2279.51 1535.98 L2287.15 1535.98 L2287.15 1539.92 L2267.24 1539.92 L2267.24 1535.98 Z\" fill=\"#000000\" fill-rule=\"evenodd\" fill-opacity=\"1\" /><path clip-path=\"url(#clip1400)\" d=\"M 0 0 M2302.22 1508.44 Q2298.61 1508.44 2296.78 1512 Q2294.97 1515.55 2294.97 1522.67 Q2294.97 1529.78 2296.78 1533.35 Q2298.61 1536.89 2302.22 1536.89 Q2305.85 1536.89 2307.66 1533.35 Q2309.49 1529.78 2309.49 1522.67 Q2309.49 1515.55 2307.66 1512 Q2305.85 1508.44 2302.22 1508.44 M2302.22 1504.73 Q2308.03 1504.73 2311.08 1509.34 Q2314.16 1513.92 2314.16 1522.67 Q2314.16 1531.4 2311.08 1536.01 Q2308.03 1540.59 2302.22 1540.59 Q2296.41 1540.59 2293.33 1536.01 Q2290.27 1531.4 2290.27 1522.67 Q2290.27 1513.92 2293.33 1509.34 Q2296.41 1504.73 2302.22 1504.73 Z\" fill=\"#000000\" fill-rule=\"evenodd\" fill-opacity=\"1\" /><path clip-path=\"url(#clip1400)\" d=\"M 0 0 M77.0198 1247.77 Q73.4087 1247.77 71.58 1251.34 Q69.7745 1254.88 69.7745 1262.01 Q69.7745 1269.11 71.58 1272.68 Q73.4087 1276.22 77.0198 1276.22 Q80.6541 1276.22 82.4596 1272.68 Q84.2883 1269.11 84.2883 1262.01 Q84.2883 1254.88 82.4596 1251.34 Q80.6541 1247.77 77.0198 1247.77 M77.0198 1244.07 Q82.83 1244.07 85.8855 1248.67 Q88.9642 1253.26 88.9642 1262.01 Q88.9642 1270.73 85.8855 1275.34 Q82.83 1279.92 77.0198 1279.92 Q71.2097 1279.92 68.131 1275.34 Q65.0754 1270.73 65.0754 1262.01 Q65.0754 1253.26 68.131 1248.67 Q71.2097 1244.07 77.0198 1244.07 Z\" fill=\"#000000\" fill-rule=\"evenodd\" fill-opacity=\"1\" /><path clip-path=\"url(#clip1400)\" d=\"M 0 0 M94.0336 1273.37 L98.9179 1273.37 L98.9179 1279.25 L94.0336 1279.25 L94.0336 1273.37 Z\" fill=\"#000000\" fill-rule=\"evenodd\" fill-opacity=\"1\" /><path clip-path=\"url(#clip1400)\" d=\"M 0 0 M108.015 1275.32 L124.334 1275.32 L124.334 1279.25 L102.39 1279.25 L102.39 1275.32 Q105.052 1272.56 109.635 1267.93 Q114.242 1263.28 115.422 1261.94 Q117.668 1259.41 118.547 1257.68 Q119.45 1255.92 119.45 1254.23 Q119.45 1251.47 117.506 1249.74 Q115.584 1248 112.483 1248 Q110.284 1248 107.83 1248.77 Q105.399 1249.53 102.622 1251.08 L102.622 1246.36 Q105.446 1245.22 107.899 1244.65 Q110.353 1244.07 112.39 1244.07 Q117.76 1244.07 120.955 1246.75 Q124.149 1249.44 124.149 1253.93 Q124.149 1256.06 123.339 1257.98 Q122.552 1259.88 120.446 1262.47 Q119.867 1263.14 116.765 1266.36 Q113.663 1269.55 108.015 1275.32 Z\" fill=\"#000000\" fill-rule=\"evenodd\" fill-opacity=\"1\" /><path clip-path=\"url(#clip1400)\" d=\"M 0 0 M74.9365 947.092 Q71.3254 947.092 69.4967 950.656 Q67.6912 954.198 67.6912 961.328 Q67.6912 968.434 69.4967 971.999 Q71.3254 975.541 74.9365 975.541 Q78.5707 975.541 80.3763 971.999 Q82.205 968.434 82.205 961.328 Q82.205 954.198 80.3763 950.656 Q78.5707 947.092 74.9365 947.092 M74.9365 943.388 Q80.7467 943.388 83.8022 947.994 Q86.8809 952.578 86.8809 961.328 Q86.8809 970.054 83.8022 974.661 Q80.7467 979.244 74.9365 979.244 Q69.1264 979.244 66.0477 974.661 Q62.9921 970.054 62.9921 961.328 Q62.9921 952.578 66.0477 947.994 Q69.1264 943.388 74.9365 943.388 Z\" fill=\"#000000\" fill-rule=\"evenodd\" fill-opacity=\"1\" /><path clip-path=\"url(#clip1400)\" d=\"M 0 0 M91.9503 972.693 L96.8345 972.693 L96.8345 978.573 L91.9503 978.573 L91.9503 972.693 Z\" fill=\"#000000\" fill-rule=\"evenodd\" fill-opacity=\"1\" /><path clip-path=\"url(#clip1400)\" d=\"M 0 0 M114.751 948.087 L102.946 966.536 L114.751 966.536 L114.751 948.087 M113.524 944.013 L119.404 944.013 L119.404 966.536 L124.334 966.536 L124.334 970.425 L119.404 970.425 L119.404 978.573 L114.751 978.573 L114.751 970.425 L99.1493 970.425 L99.1493 965.911 L113.524 944.013 Z\" fill=\"#000000\" fill-rule=\"evenodd\" fill-opacity=\"1\" /><path clip-path=\"url(#clip1400)\" d=\"M 0 0 M75.2606 646.412 Q71.6495 646.412 69.8208 649.977 Q68.0152 653.518 68.0152 660.648 Q68.0152 667.754 69.8208 671.319 Q71.6495 674.861 75.2606 674.861 Q78.8948 674.861 80.7004 671.319 Q82.5291 667.754 82.5291 660.648 Q82.5291 653.518 80.7004 649.977 Q78.8948 646.412 75.2606 646.412 M75.2606 642.708 Q81.0707 642.708 84.1263 647.315 Q87.205 651.898 87.205 660.648 Q87.205 669.375 84.1263 673.981 Q81.0707 678.565 75.2606 678.565 Q69.4504 678.565 66.3717 673.981 Q63.3162 669.375 63.3162 660.648 Q63.3162 651.898 66.3717 647.315 Q69.4504 642.708 75.2606 642.708 Z\" fill=\"#000000\" fill-rule=\"evenodd\" fill-opacity=\"1\" /><path clip-path=\"url(#clip1400)\" d=\"M 0 0 M92.2744 672.014 L97.1586 672.014 L97.1586 677.893 L92.2744 677.893 L92.2744 672.014 Z\" fill=\"#000000\" fill-rule=\"evenodd\" fill-opacity=\"1\" /><path clip-path=\"url(#clip1400)\" d=\"M 0 0 M112.807 658.75 Q109.659 658.75 107.807 660.903 Q105.978 663.055 105.978 666.805 Q105.978 670.532 107.807 672.708 Q109.659 674.861 112.807 674.861 Q115.955 674.861 117.783 672.708 Q119.635 670.532 119.635 666.805 Q119.635 663.055 117.783 660.903 Q115.955 658.75 112.807 658.75 M122.089 644.097 L122.089 648.356 Q120.33 647.523 118.524 647.083 Q116.742 646.643 114.983 646.643 Q110.353 646.643 107.899 649.768 Q105.469 652.893 105.122 659.213 Q106.487 657.199 108.547 656.134 Q110.608 655.046 113.084 655.046 Q118.293 655.046 121.302 658.217 Q124.334 661.366 124.334 666.805 Q124.334 672.129 121.186 675.347 Q118.038 678.565 112.807 678.565 Q106.811 678.565 103.64 673.981 Q100.469 669.375 100.469 660.648 Q100.469 652.454 104.358 647.592 Q108.247 642.708 114.797 642.708 Q116.557 642.708 118.339 643.055 Q120.145 643.403 122.089 644.097 Z\" fill=\"#000000\" fill-rule=\"evenodd\" fill-opacity=\"1\" /><path clip-path=\"url(#clip1400)\" d=\"M 0 0 M75.5152 345.732 Q71.9041 345.732 70.0754 349.297 Q68.2699 352.839 68.2699 359.968 Q68.2699 367.075 70.0754 370.64 Q71.9041 374.181 75.5152 374.181 Q79.1494 374.181 80.955 370.64 Q82.7837 367.075 82.7837 359.968 Q82.7837 352.839 80.955 349.297 Q79.1494 345.732 75.5152 345.732 M75.5152 342.029 Q81.3254 342.029 84.3809 346.635 Q87.4596 351.218 87.4596 359.968 Q87.4596 368.695 84.3809 373.302 Q81.3254 377.885 75.5152 377.885 Q69.7051 377.885 66.6264 373.302 Q63.5708 368.695 63.5708 359.968 Q63.5708 351.218 66.6264 346.635 Q69.7051 342.029 75.5152 342.029 Z\" fill=\"#000000\" fill-rule=\"evenodd\" fill-opacity=\"1\" /><path clip-path=\"url(#clip1400)\" d=\"M 0 0 M92.529 371.334 L97.4132 371.334 L97.4132 377.214 L92.529 377.214 L92.529 371.334 Z\" fill=\"#000000\" fill-rule=\"evenodd\" fill-opacity=\"1\" /><path clip-path=\"url(#clip1400)\" d=\"M 0 0 M112.483 360.802 Q109.149 360.802 107.228 362.584 Q105.33 364.366 105.33 367.491 Q105.33 370.616 107.228 372.399 Q109.149 374.181 112.483 374.181 Q115.816 374.181 117.737 372.399 Q119.658 370.593 119.658 367.491 Q119.658 364.366 117.737 362.584 Q115.839 360.802 112.483 360.802 M107.807 358.811 Q104.797 358.07 103.108 356.01 Q101.441 353.95 101.441 350.987 Q101.441 346.843 104.381 344.436 Q107.344 342.029 112.483 342.029 Q117.645 342.029 120.584 344.436 Q123.524 346.843 123.524 350.987 Q123.524 353.95 121.834 356.01 Q120.168 358.07 117.182 358.811 Q120.561 359.598 122.436 361.89 Q124.334 364.181 124.334 367.491 Q124.334 372.514 121.256 375.2 Q118.2 377.885 112.483 377.885 Q106.765 377.885 103.686 375.2 Q100.631 372.514 100.631 367.491 Q100.631 364.181 102.529 361.89 Q104.427 359.598 107.807 358.811 M106.094 351.427 Q106.094 354.112 107.76 355.616 Q109.45 357.121 112.483 357.121 Q115.492 357.121 117.182 355.616 Q118.895 354.112 118.895 351.427 Q118.895 348.741 117.182 347.237 Q115.492 345.732 112.483 345.732 Q109.45 345.732 107.76 347.237 Q106.094 348.741 106.094 351.427 Z\" fill=\"#000000\" fill-rule=\"evenodd\" fill-opacity=\"1\" /><path clip-path=\"url(#clip1400)\" d=\"M 0 0 M67.4597 72.5987 L75.0985 72.5987 L75.0985 46.2331 L66.7884 47.8998 L66.7884 43.6405 L75.0522 41.9739 L79.7281 41.9739 L79.7281 72.5987 L87.367 72.5987 L87.367 76.5339 L67.4597 76.5339 L67.4597 72.5987 Z\" fill=\"#000000\" fill-rule=\"evenodd\" fill-opacity=\"1\" /><path clip-path=\"url(#clip1400)\" d=\"M 0 0 M92.4364 70.6543 L97.3206 70.6543 L97.3206 76.5339 L92.4364 76.5339 L92.4364 70.6543 Z\" fill=\"#000000\" fill-rule=\"evenodd\" fill-opacity=\"1\" /><path clip-path=\"url(#clip1400)\" d=\"M 0 0 M112.39 45.0525 Q108.779 45.0525 106.95 48.6173 Q105.145 52.159 105.145 59.2886 Q105.145 66.395 106.95 69.9598 Q108.779 73.5015 112.39 73.5015 Q116.024 73.5015 117.83 69.9598 Q119.658 66.395 119.658 59.2886 Q119.658 52.159 117.83 48.6173 Q116.024 45.0525 112.39 45.0525 M112.39 41.3489 Q118.2 41.3489 121.256 45.9553 Q124.334 50.5386 124.334 59.2886 Q124.334 68.0154 121.256 72.6218 Q118.2 77.2052 112.39 77.2052 Q106.58 77.2052 103.501 72.6218 Q100.446 68.0154 100.446 59.2886 Q100.446 50.5386 103.501 45.9553 Q106.58 41.3489 112.39 41.3489 Z\" fill=\"#000000\" fill-rule=\"evenodd\" fill-opacity=\"1\" /><polyline clip-path=\"url(#clip1402)\" style=\"stroke:#009af9; stroke-width:4; stroke-opacity:1; fill:none\" points=\"\n  210.724,1445.72 441.795,87.9763 672.867,690.384 903.938,191.847 1135.01,1271.31 1366.08,1423.41 1597.15,724.343 1828.22,897.668 2059.3,370.462 2290.37,1084.32 \n  \n  \"/>\n<path clip-path=\"url(#clip1400)\" d=\"\nM1989.74 251.724 L2280.76 251.724 L2280.76 130.764 L1989.74 130.764  Z\n  \" fill=\"#ffffff\" fill-rule=\"evenodd\" fill-opacity=\"1\"/>\n<polyline clip-path=\"url(#clip1400)\" style=\"stroke:#000000; stroke-width:4; stroke-opacity:1; fill:none\" points=\"\n  1989.74,251.724 2280.76,251.724 2280.76,130.764 1989.74,130.764 1989.74,251.724 \n  \"/>\n<polyline clip-path=\"url(#clip1400)\" style=\"stroke:#009af9; stroke-width:4; stroke-opacity:1; fill:none\" points=\"\n  2013.74,191.244 2157.74,191.244 \n  \"/>\n<path clip-path=\"url(#clip1400)\" d=\"M 0 0 M2195.58 210.931 Q2193.77 215.561 2192.06 216.973 Q2190.35 218.385 2187.48 218.385 L2184.08 218.385 L2184.08 214.82 L2186.58 214.82 Q2188.33 214.82 2189.31 213.987 Q2190.28 213.154 2191.46 210.052 L2192.22 208.107 L2181.74 182.598 L2186.25 182.598 L2194.35 202.876 L2202.46 182.598 L2206.97 182.598 L2195.58 210.931 Z\" fill=\"#000000\" fill-rule=\"evenodd\" fill-opacity=\"1\" /><path clip-path=\"url(#clip1400)\" d=\"M 0 0 M2212.85 204.589 L2220.49 204.589 L2220.49 178.223 L2212.18 179.89 L2212.18 175.631 L2220.44 173.964 L2225.12 173.964 L2225.12 204.589 L2232.76 204.589 L2232.76 208.524 L2212.85 208.524 L2212.85 204.589 Z\" fill=\"#000000\" fill-rule=\"evenodd\" fill-opacity=\"1\" /></svg>\n"
          },
          "metadata": {
            "tags": []
          },
          "execution_count": 2
        }
      ]
    },
    {
      "cell_type": "markdown",
      "metadata": {
        "id": "Vls40m3DVr69",
        "colab_type": "text"
      },
      "source": [
        ""
      ]
    }
  ]
}